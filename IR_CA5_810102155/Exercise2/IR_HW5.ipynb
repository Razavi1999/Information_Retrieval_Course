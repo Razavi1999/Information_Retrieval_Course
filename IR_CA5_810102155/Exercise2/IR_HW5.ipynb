{
  "cells": [
    {
      "cell_type": "code",
      "execution_count": null,
      "metadata": {
        "colab": {
          "base_uri": "https://localhost:8080/"
        },
        "id": "T5TP2y57BBdE",
        "outputId": "4751cf94-b3b2-4b31-8130-01cb90ae4c2d"
      },
      "outputs": [
        {
          "output_type": "stream",
          "name": "stdout",
          "text": [
            "Drive already mounted at /content/drive; to attempt to forcibly remount, call drive.mount(\"/content/drive\", force_remount=True).\n"
          ]
        }
      ],
      "source": [
        "from google.colab import drive\n",
        "drive.mount('/content/drive')"
      ]
    },
    {
      "cell_type": "code",
      "execution_count": null,
      "metadata": {
        "id": "NRcYxkOgvrpe"
      },
      "outputs": [],
      "source": [
        "data_file = \"/content/drive/MyDrive/web-Google.txt\"\n",
        "# data = pd.read_csv(data_file)\n",
        "# data.head()"
      ]
    },
    {
      "cell_type": "markdown",
      "source": [
        "# Next Version of code"
      ],
      "metadata": {
        "id": "ETuIcMnpjJFw"
      }
    },
    {
      "cell_type": "code",
      "source": [
        "import networkx as nx\n",
        "import matplotlib.pyplot as plt\n",
        "\n",
        "G = nx.DiGraph()\n",
        "\n",
        "cnt = 1\n",
        "with open(data_file , 'r') as f:\n",
        "    lines = f.readlines()\n",
        "    for line in lines:\n",
        "        if line[0] == '#':\n",
        "            continue\n",
        "\n",
        "        line = str(line)\n",
        "\n",
        "        words = line.split('\\t')\n",
        "\n",
        "        if len(words) > 1:\n",
        "            firstNode = words[0]\n",
        "            secondNode = words[1]\n",
        "\n",
        "            firstNode = firstNode.replace('\\n' , '')\n",
        "            secondNode = secondNode.replace('\\n' , '')\n",
        "            # print(f\"FirstNode: {firstNode} \\n SecondNode: {secondNode}\")\n",
        "\n",
        "        # print('------------------')\n",
        "\n",
        "        cnt += 1\n",
        "\n",
        "        G.add_edge(firstNode , secondNode , weight = 1)\n",
        "\n",
        "max_subgraph = None\n",
        "max_nodes = 0\n",
        "\n",
        "\n",
        "# Find the weakly connected component subgraphs\n",
        "# Find the weakly connected components\n",
        "weakly_connected_components = nx.weakly_connected_components(G)\n",
        "\n",
        "# Find the largest weakly connected component\n",
        "largest_component = max(weakly_connected_components, key=len)\n",
        "\n",
        "# Create a subgraph of the largest component\n",
        "largest_component_subgraph = G.subgraph(largest_component)\n",
        "\n",
        "# Print the nodes of the largest weakly connected component\n",
        "# print(largest_component_subgraph.nodes())\n",
        "\n",
        "# print('**********************************************')\n",
        "\n",
        "# print(max_subgraph.nodes())\n",
        "\n",
        "print('***********************************************')\n",
        "\n",
        "print(f'len of nodes of largest_component_subgraph : {len(largest_component_subgraph.nodes())}\\n')\n",
        "\n",
        "print(f'len of edges of largest_component_subgraph : {len(largest_component_subgraph.edges())} \\n')\n",
        "# for each in max_subgraph.edges():\n",
        "#     print(each)\n",
        "\n",
        "print('*********************************************')\n",
        "\n",
        "# print(max_nodes)\n",
        "# largest = max(nx.weakly_connected_components(G) , key=len)\n",
        "# print(largest.nodes())\n",
        "# print(largest.edges())\n",
        "\n",
        "# Second part of this # QUESTION: 2\n",
        "# Calculate the PageRank scores\n",
        "pagerank_scores = nx.pagerank(largest_component_subgraph)\n",
        "\n",
        "# Draw the histogram diagram\n",
        "plt.hist(list(pagerank_scores.values()) , bins = 50)\n",
        "plt.xlabel('Nodes')\n",
        "plt.ylabel('PageRank Score')\n",
        "plt.title('PageRank Scores')\n",
        "plt.show()\n",
        "plt.savefig(\"pagerank.png\")\n",
        "\n",
        "\n",
        "# # Calculate the Hub and Authority scores\n",
        "hub_scores, authority_scores = nx.hits(largest_component_subgraph)\n",
        "\n",
        "# Draw the histogram diagram for Hub scores\n",
        "plt.hist(list(hub_scores.values()), bins = 50)\n",
        "plt.xlabel('Nodes')\n",
        "plt.ylabel('Hub Score')\n",
        "plt.title('Hub Scores')\n",
        "plt.show()\n",
        "plt.savefig(\"HubScores.png\")\n",
        "\n",
        "# Draw the histogram diagram for Authority scores\n",
        "plt.hist(list(authority_scores.values() ), bins = 50)\n",
        "plt.xlabel('Nodes')\n",
        "plt.ylabel('Authority Score')\n",
        "plt.title('Authority Scores')\n",
        "plt.show()\n",
        "plt.savefig(\"AuthorityScores.png\")\n",
        "\n",
        "# -----------------------------------------------------\n",
        "\n",
        "\n",
        "# third part of this # QUESTION: 3\n",
        "setA = set( pagerank_scores )\n",
        "setB = set( hub_scores )\n",
        "setC = set( authority_scores)\n",
        "\n",
        "commonNodes_pageRank_hub = setA.intersection( setB )\n",
        "commonNodes_pageRank_authority = setA.intersection( setC )\n",
        "commonNodes_authority_hub = setB.intersection( setC )\n",
        "\n",
        "print(f'Number of common nodes between PageRank and Hub : {commonNodes_pageRank_hub}')\n",
        "print(f'Number of common nodes between PageRank and authority : {commonNodes_pageRank_authority}')\n",
        "print(f'Number of common nodes between authority and Hub : {commonNodes_authority_hub}')\n"
      ],
      "metadata": {
        "colab": {
          "base_uri": "https://localhost:8080/",
          "height": 1000
        },
        "id": "pTYSBf1vjIfk",
        "outputId": "17bac311-ae91-4df1-dca1-8df751795b12"
      },
      "execution_count": null,
      "outputs": [
        {
          "output_type": "stream",
          "name": "stdout",
          "text": [
            "***********************************************\n",
            "len of nodes of largest_component_subgraph : 855802\n",
            "\n",
            "len of edges of largest_component_subgraph : 5066841 \n",
            "\n",
            "*********************************************\n"
          ]
        },
        {
          "output_type": "display_data",
          "data": {
            "text/plain": [
              "<Figure size 640x480 with 1 Axes>"
            ],
            "image/png": "[encoded data removed]"
          },
          "metadata": {}
        },
        {
          "output_type": "display_data",
          "data": {
            "text/plain": [
              "<Figure size 640x480 with 1 Axes>"
            ],
            "image/png": "[encoded data removed]"
          },
          "metadata": {}
        },
        {
          "output_type": "display_data",
          "data": {
            "text/plain": [
              "<Figure size 640x480 with 1 Axes>"
            ],
            "image/png": "[encoded data removed]"
          },
          "metadata": {}
        },
        {
          "output_type": "stream",
          "name": "stderr",
          "text": [
            "IOPub data rate exceeded.\n",
            "The notebook server will temporarily stop sending output\n",
            "to the client in order to avoid crashing it.\n",
            "To change this limit, set the config variable\n",
            "`--NotebookApp.iopub_data_rate_limit`.\n",
            "\n",
            "Current values:\n",
            "NotebookApp.iopub_data_rate_limit=1000000.0 (bytes/sec)\n",
            "NotebookApp.rate_limit_window=3.0 (secs)\n",
            "\n"
          ]
        },
        {
          "output_type": "stream",
          "name": "stdout",
          "text": [
            "\n"
          ]
        },
        {
          "output_type": "display_data",
          "data": {
            "text/plain": [
              "<Figure size 640x480 with 0 Axes>"
            ]
          },
          "metadata": {}
        }
      ]
    },
    {
      "cell_type": "code",
      "source": [
        "from operator import itemgetter\n",
        "\n",
        "nodes_without_outgoing_edge = list(node for node, out_degree in largest_component_subgraph.out_degree() if out_degree == 0)\n",
        "\n",
        "nodes_without_ingoing_edge = list(node for node, in_degree in largest_component_subgraph.in_degree() if in_degree == 0)\n",
        "\n",
        "print(f'length of nodes_without_outgoing_edge : {len(nodes_without_outgoing_edge)}')\n",
        "print(f'length of nodes_without_ingoing_edge : {len(nodes_without_ingoing_edge)}')\n",
        "# print(len(nodes_without_ingoing_edge))\n",
        "\n",
        "N = 1000\n",
        "\n",
        "# for key , val in sorted(pagerank_scores.items() , key = lambda x : x[1] , reverse=True)[:N]:\n",
        "\n",
        "# nodes_top_100_pagerank  = sorted(pagerank_scores.items(), key = lambda x : x[1] , reverse=True)[:N]\n",
        "# nodes_top_100_hub = sorted(hub_scores.items(), key = lambda x : x[1] , reverse=True)[:N]\n",
        "# nodes_top_100_authority = sorted(authority_scores.items(), key = lambda x : x[1] , reverse=True)[:N]\n",
        "# for each in nodes_without_ingoing_edge:\n",
        "#   print(each)"
      ],
      "metadata": {
        "colab": {
          "base_uri": "https://localhost:8080/"
        },
        "id": "Dzpf3JX7nIsm",
        "outputId": "c3a654de-749b-4c5b-e370-82f1b3daeff3"
      },
      "execution_count": null,
      "outputs": [
        {
          "output_type": "stream",
          "name": "stdout",
          "text": [
            "length of nodes_without_outgoing_edge : 129587\n",
            "length of nodes_without_ingoing_edge : 153225\n"
          ]
        }
      ]
    },
    {
      "cell_type": "markdown",
      "source": [
        "# Finding Intersection of sets."
      ],
      "metadata": {
        "id": "CMl_zY8dzMCh"
      }
    },
    {
      "cell_type": "code",
      "source": [
        "nodes_without_outgoing_edge = list(node for node, out_degree in largest_component_subgraph.out_degree() if out_degree == 0)\n",
        "\n",
        "nodes_without_ingoing_edge = list(node for node, in_degree in largest_component_subgraph.in_degree() if in_degree == 0)\n",
        "\n",
        "# print(len(nodes_without_outgoing_edge))\n",
        "# print(len(nodes_without_ingoing_edge))\n",
        "\n",
        "N = 1000\n",
        "nodes_top_1000_pagerank  = [] # sorted(pagerank_scores.items(), key=itemgetter(1), reverse=True)[:N]\n",
        "\n",
        "nodes_top_1000_hub =[] # sorted(hub_scores.items(), key=itemgetter(1), reverse=True)[:N]\n",
        "nodes_top_1000_authority = [] # sorted(authority_scores.items(), key=itemgetter(1), reverse=True)[:N]\n",
        "\n",
        "for key , val in sorted(pagerank_scores.items() , key = lambda x : x[1] , reverse=True)[:N]:\n",
        "  nodes_top_1000_pagerank.append(key)\n",
        "  # print(f'key : {key} , value : {val}')\n",
        "\n",
        "\n",
        "for key , val in sorted(hub_scores.items() , key = lambda x : x[1] , reverse=True)[:N]:\n",
        "  nodes_top_1000_hub.append(key)\n",
        "\n",
        "for key , val in sorted(authority_scores.items() , key = lambda x : x[1] , reverse=True)[:N]:\n",
        "  nodes_top_1000_authority.append(key)\n",
        "\n",
        "# for each in nodes_without_ingoing_edge:\n",
        "#   print(each)\n",
        "\n",
        "# $$$$$$$$$$$$$$$$$$$$$$$\n",
        "# $$$$$$$$$$$$$$$$$$$$$$$\n",
        "\n",
        "setA = set( nodes_top_1000_pagerank )\n",
        "setB = set( nodes_top_1000_hub )\n",
        "setC = set( nodes_top_1000_authority )\n",
        "setD = set( nodes_without_ingoing_edge )\n",
        "setE = set( nodes_without_outgoing_edge )\n",
        "\n",
        "commonNodes_pageRank_hub = setA.intersection( setB )\n",
        "commonNodes_pageRank_authority = setA.intersection( setC )\n",
        "commonNodes_pageRank_ingoing = setA.intersection( setD )\n",
        "commonNodes_pageRank_outgoing = setA.intersection( setE )\n",
        "\n",
        "commonNodes_hub_authority = setB.intersection( setC )\n",
        "commonNodes_hub_ingoing = setB.intersection( setD )\n",
        "commonNodes_hub_outgoing = setB.intersection( setE )\n",
        "\n",
        "commonNodes_authority_ingoing = setC.intersection( setD )\n",
        "commonNodes_authority_outgoing = setC.intersection( setE )\n",
        "\n",
        "commonNodes_outgoing_ingoing = setD.intersection( setE )\n",
        "\n",
        "\n",
        "print(f'Number of common nodes between PageRank and Hub : {len(commonNodes_pageRank_hub)}')\n",
        "print(f'Number of common nodes between PageRank and authority : {len(commonNodes_pageRank_authority)}')\n",
        "print(f'Number of common nodes between authority and Hub : {len(commonNodes_authority_hub)}')\n",
        "print(f'Number of common nodes between PageRank and ingoing nodes : {len(commonNodes_pageRank_ingoing)}')\n",
        "\n",
        "print('-----------------------------------------------------')\n",
        "\n",
        "print(f'Number of common nodes between hub and authority : {len(commonNodes_authority_hub)}')\n",
        "print(f'Number of common nodes between hub and ingoing nodes : {len(commonNodes_hub_ingoing)}')\n",
        "print(f'Number of common nodes between hub and outgoing nodes : {len(commonNodes_hub_outgoing)}')\n",
        "\n",
        "print('-----------------------------------------------------')\n",
        "\n",
        "print(f'Number of common nodes between authority and ingoing nodes : {len(commonNodes_authority_ingoing)}')\n",
        "print(f'Number of common nodes between authority and outgoing nodes : {len(commonNodes_authority_outgoing)}')\n",
        "\n",
        "print('-----------------------------------------------------')\n",
        "\n",
        "# print(f'Number of common nodes between ingoing nodes and outgoing nodes : {len(commonNodes_outgoing_ingoing)}')\n",
        "# print(f'Number of common nodes between PageRank and Hub : {len(commonNodes_pageRank_hub)}')\n",
        "# print(f'Number of common nodes between PageRank and authority : {len(commonNodes_pageRank_authority)}')\n",
        "# print(f'Number of common nodes between authority and Hub : {len(commonNodes_authority_hub)}')\n",
        "\n"
      ],
      "metadata": {
        "colab": {
          "base_uri": "https://localhost:8080/"
        },
        "id": "Tp9NC3TXzLQQ",
        "outputId": "d040159e-c458-478e-f4c8-6366831513cc"
      },
      "execution_count": null,
      "outputs": [
        {
          "output_type": "stream",
          "name": "stdout",
          "text": [
            "Number of common nodes between PageRank and Hub : 4\n",
            "Number of common nodes between PageRank and authority : 77\n",
            "Number of common nodes between authority and Hub : 855802\n",
            "Number of common nodes between PageRank and ingoing nodes : 0\n",
            "-----------------------------------------------------\n",
            "Number of common nodes between hub and authority : 855802\n",
            "Number of common nodes between hub and ingoing nodes : 695\n",
            "Number of common nodes between hub and outgoing nodes : 0\n",
            "-----------------------------------------------------\n",
            "Number of common nodes between authority and ingoing nodes : 0\n",
            "Number of common nodes between authority and outgoing nodes : 15\n",
            "-----------------------------------------------------\n"
          ]
        }
      ]
    },
    {
      "cell_type": "code",
      "source": [
        "N = 1000\n",
        "\n",
        "pr_02 = nx.pagerank(largest_component_subgraph , alpha=0.2)\n",
        "nodes_pr_02 = []\n",
        "\n",
        "for key , val in sorted(pr_02.items() , key = lambda x : x[1] , reverse=True)[:N]:\n",
        "  nodes_pr_02.append(key)\n",
        "\n",
        "pr_04 = nx.pagerank(largest_component_subgraph , alpha=0.4)\n",
        "nodes_pr_04 = []\n",
        "\n",
        "for key , val in sorted(pr_04.items() , key = lambda x : x[1] , reverse = True)[:N]:\n",
        "  nodes_pr_04.append(key)\n",
        "\n",
        "\n",
        "\n",
        "pr_05 = nx.pagerank(largest_component_subgraph , alpha=0.5)\n",
        "nodes_pr_05 = []\n",
        "\n",
        "for key , val in sorted(pr_05.items() , key = lambda x : x[1] , reverse = True)[:N]:\n",
        "  nodes_pr_05.append(key)\n",
        "\n",
        "\n",
        "pr_06 = nx.pagerank(largest_component_subgraph , alpha=0.6)\n",
        "nodes_pr_06 = []\n",
        "\n",
        "for key , val in sorted(pr_06.items() , key = lambda x : x[1] , reverse = True)[:N]:\n",
        "  nodes_pr_06.append(key)\n",
        "\n",
        "\n",
        "\n",
        "pr_08 = nx.pagerank(largest_component_subgraph , alpha=0.8)\n",
        "nodes_pr_08 = []\n",
        "\n",
        "for key , val in sorted(pr_08.items() , key = lambda x : x[1] , reverse = True)[:N]:\n",
        "  nodes_pr_08.append(key)"
      ],
      "metadata": {
        "id": "AjAdqq4nB1mY"
      },
      "execution_count": null,
      "outputs": []
    },
    {
      "cell_type": "code",
      "source": [
        "set1 = set( nodes_pr_02 )\n",
        "set2 = set( nodes_pr_04 )\n",
        "set3 = set( nodes_pr_05 )\n",
        "set4 = set( nodes_pr_06 )\n",
        "set5 = set( nodes_pr_08 )\n",
        "setAuthority = set(nodes_top_1000_authority)\n",
        "setHub = set(nodes_top_1000_hub)\n",
        "\n",
        "commonNodes_authority_02 = set1.intersection(setAuthority)\n",
        "commonNodes_authority_04 = set2.intersection(setAuthority)\n",
        "commonNodes_authority_05 = set3.intersection(setAuthority)\n",
        "commonNodes_authority_06 = set4.intersection(setAuthority)\n",
        "commonNodes_authority_08 = set5.intersection(setAuthority)\n",
        "\n",
        "commonNodes_hub_02 = set1.intersection(setHub)\n",
        "commonNodes_hub_04 = set2.intersection(setHub)\n",
        "commonNodes_hub_05 = set3.intersection(setHub)\n",
        "commonNodes_hub_06 = set4.intersection(setHub)\n",
        "commonNodes_hub_08 = set5.intersection(setHub)\n",
        "\n",
        "print(f'common Nodes between Authority and PageRank(0.2) : {len(commonNodes_authority_02)}')\n",
        "print(f'common Nodes between Authority and PageRank(0.4) : {len(commonNodes_authority_04)}')\n",
        "print(f'common Nodes between Authority and PageRank(0.5) : {len(commonNodes_authority_05)}')\n",
        "print(f'common Nodes between Authority and PageRank(0.6) : {len(commonNodes_authority_06)}')\n",
        "print(f'common Nodes between Authority and PageRank(0.8) : {len(commonNodes_authority_08)}')\n",
        "\n",
        "print(f'common Nodes between Hub and PageRank(0.2) : {len(commonNodes_hub_02)}')\n",
        "print(f'common Nodes between Hub and PageRank(0.4) : {len(commonNodes_hub_04)}')\n",
        "print(f'common Nodes between Hub and PageRank(0.5) : {len(commonNodes_hub_05)}')\n",
        "print(f'common Nodes between Hub and PageRank(0.6) : {len(commonNodes_hub_06)}')\n",
        "print(f'common Nodes between Hub and PageRank(0.8) : {len(commonNodes_hub_08)}')"
      ],
      "metadata": {
        "id": "4XkIFPVKMNLj",
        "colab": {
          "base_uri": "https://localhost:8080/"
        },
        "outputId": "67a8427b-c169-408b-acfb-eb0dc550f0b9"
      },
      "execution_count": null,
      "outputs": [
        {
          "output_type": "stream",
          "name": "stdout",
          "text": [
            "common Nodes between Authority and PageRank(0.2) : 64\n",
            "common Nodes between Authority and PageRank(0.4) : 64\n",
            "common Nodes between Authority and PageRank(0.5) : 64\n",
            "common Nodes between Authority and PageRank(0.6) : 64\n",
            "common Nodes between Authority and PageRank(0.8) : 64\n",
            "common Nodes between Hub and PageRank(0.2) : 2\n",
            "common Nodes between Hub and PageRank(0.4) : 2\n",
            "common Nodes between Hub and PageRank(0.5) : 2\n",
            "common Nodes between Hub and PageRank(0.6) : 2\n",
            "common Nodes between Hub and PageRank(0.8) : 2\n"
          ]
        }
      ]
    },
    {
      "cell_type": "code",
      "source": [
        "footballers_goals = {'Eusebio': 120, 'Cruyff': 104, 'Pele': 150, 'Ronaldo': 132, 'Messi': 125}\n",
        "\n",
        "sorted_footballers_by_goals = sorted(footballers_goals.items(), key=lambda x:x[1] , reverse = True)[:3]\n",
        "print(sorted_footballers_by_goals)"
      ],
      "metadata": {
        "colab": {
          "base_uri": "https://localhost:8080/"
        },
        "id": "Oj9JK-9R0fua",
        "outputId": "95f844b9-1c1e-4172-a9e9-99ec3a515ab3"
      },
      "execution_count": null,
      "outputs": [
        {
          "output_type": "stream",
          "name": "stdout",
          "text": [
            "[('Pele', 150), ('Ronaldo', 132), ('Messi', 125)]\n"
          ]
        }
      ]
    }
  ],
  "metadata": {
    "colab": {
      "provenance": []
    },
    "kernelspec": {
      "display_name": "Python 3",
      "name": "python3"
    },
    "language_info": {
      "name": "python"
    }
  },
  "nbformat": 4,
  "nbformat_minor": 0
}